{
 "cells": [
  {
   "cell_type": "markdown",
   "id": "aab2e42a",
   "metadata": {},
   "source": [
    "# Planets\n",
    "\n",
    "## Consieraciones iniciales\n",
    "\n",
    "* El sol está en la coordenada x = 0, y = 0\n",
    "* En el día 0, los planetas están alineados en la coordenada x = 0\n",
    "* Los años son de 365 días.\n",
    "\n",
    "  \n",
    "  \n",
    "## Solución\n",
    "\n",
    "Como la distancia desde el sol a cada uno de los planetas es conocida, dichas distancias pueden considerarse como un radio. Al conocer también la velocidad angular de los planetas en grados, es posible conocer el ángulo en función del día.\n",
    "    \n",
    "Con estas condiciones conocidas: un radio y un ángulo, es posible saber la posición de cada uno de los planetas en un eje cartesiano x e y haciendo uso de las funciones seno (sin) y coseno (cos). Esta lógica se plasma en la función _planets_positions_ que toma como argumento el número del día.\n",
    "\n",
    "Comprobando las funciones sin() y cos() con ángulos conocidos, se determina que la función tiene los argumentos de entrada en radianes. Los planetas que giran en sentido horario tienen el argumento igual al ángulo, mientras que el planeta que gira en sentido antihorario tiene el argumento como 360 restando el ángulo.\n",
    "  \n",
    "Adicionalmente todas las posiciones en los ejes cartesianos se redondean a enteros para poder hacer comparaciones correctas en casos de alineación planetaria.\n",
    "\n",
    "La lógica de alineación se encuentra en la función _aligned_ que toma como argumento de entrada las seis coordenadas de posición.\n",
    "\n",
    "Teniendo las seis coordenadas de posición: tres pares (x,y) para cada planeta es posible comenzar a construir rectas entre los planetas. En el caso de alineación, se podrán construir dos rectas entre los tres planetas cuando se fija a uno de ellos, dichas rectas tendrán la misma pendiente al ser en realidad la misma recta.\n",
    "\n",
    "Si la recta trazada a través de los puntos alineados pasa por el sol (x = y = 0) entonces se tendrá una situación de **sequía**, si no pasa por el sol se tendrá una condición de clima **óptimo** y si los planetas están desalineados pueden darse las siguientes situaciones:\n",
    "\n",
    "* Si el triángulo que forman los tres planetas como vértices contiene al sol (x = y = 0) entonces se tendrá clima de **lluvia**. La lluvia tendra un pico cuando el triángulo tenga un máximo de perímetro.\n",
    "* Si el triángulo que forman los tres planetas como vértices NO contiene al sol (x = y = 0) entonces se tendrá clima **incorrecto**\n",
    "\n",
    "Para estos casos de no alineación se identifica que el sol queda dentro del triángulo usando la función _is_inside_ que se basa en el supuesto de que el área del triángulo formado por los planetas equivale a la suma del área de tres triángulos más pequeños que se forman teniendo al sol como vértice.\n",
    "\n",
    "Se genera una lista con los días de los diez años a los que se les aplica las funciones ya mencionadas para obtener como salida una etiqueta de clima y la suma del perímetro del triángulo.\n",
    "\n",
    "Se generan dataframes a partir de la lista para obtener las respuestas. Adicionalmente se presentan anexos con un par de pruebas: prueba del sol como punto interior del triángulo formado por los planetas y la condición de clima \"óptimo\".\n",
    "\n",
    "<img src=\"is_inside.png\">\n",
    "\n",
    "En el gráfico se muestran un par de triángulos, uno de ellos con el sol como punto interior y que además corresponde a un día de pico de lluvia (rojo)."
   ]
  },
  {
   "cell_type": "code",
   "execution_count": 1,
   "id": "1ba4d9c7",
   "metadata": {},
   "outputs": [],
   "source": [
    "import math\n",
    "from typing import Tuple\n",
    "\n",
    "import numpy as np\n",
    "import pandas as pd\n",
    "import matplotlib.pyplot as plt"
   ]
  },
  {
   "cell_type": "code",
   "execution_count": 2,
   "id": "03ad8e5f",
   "metadata": {},
   "outputs": [],
   "source": [
    "def planets_positions(num_days: int) -> Tuple:\n",
    "    \"\"\"Function to calculate the x,y positions of the three planets depending on the displacement\n",
    "        angle due the number of days.\n",
    "    \n",
    "    Prefix/suffix\n",
    "    \n",
    "    fer: Ferengis\n",
    "    bet: Betasoides\n",
    "    vul: Vulcanos \n",
    "    \n",
    "    Args:\n",
    "        num_days(int): Days to calculate\n",
    "    \"\"\"\n",
    "\n",
    "    #Defining radius in km\n",
    "    r_fer = 500\n",
    "    r_bet = 2000\n",
    "    r_vul = 1000\n",
    "\n",
    "    #Defining degrees\n",
    "    d_fer = 1\n",
    "    d_bet = 3\n",
    "    d_vul = 5\n",
    "\n",
    "    #Calculating x,y positions for each planet\n",
    "    x_fer = round( r_fer * math.sin(math.radians(d_fer * num_days)) ,0)\n",
    "    y_fer = round( r_fer * math.cos(math.radians(d_fer * num_days)) ,0)\n",
    "\n",
    "    x_bet = round( r_bet * math.sin(math.radians(d_bet * num_days)) ,0)\n",
    "    y_bet = round( r_bet * math.cos(math.radians(d_bet * num_days)) ,0)\n",
    "\n",
    "    #As planet vulcano is moving counterclockwise the angle changes to (360 - d_vul)\n",
    "    x_vul = round( r_vul * math.sin(math.radians((360 - d_vul) * num_days)) ,0)\n",
    "    y_vul = round( r_vul * math.cos(math.radians((360 - d_vul) * num_days)) ,0)\n",
    "    \n",
    "    return x_fer, y_fer, x_bet, y_bet, x_vul, y_vul"
   ]
  },
  {
   "cell_type": "code",
   "execution_count": 3,
   "id": "e641a89b",
   "metadata": {},
   "outputs": [],
   "source": [
    "def area(x1, y1, x2, y2, x3, y3):\n",
    "    \"\"\"\n",
    "    This cell code was downloded from: https://www.geeksforgeeks.org/check-whether-a-given-point-lies-inside-a-triangle-or-not/\n",
    "\n",
    "    # A utility function to calculate area\n",
    "    # of triangle formed by (x1, y1),\n",
    "    # (x2, y2) and (x3, y3)\n",
    "\n",
    "    This code is contributed by Danish Raza \n",
    "    \n",
    "    Args:\n",
    "        x1(float): Coordinate x1 of point A\n",
    "        y1(float): Coordinate y1 of point A\n",
    "        x2(float): Coordinate x2 of point B\n",
    "        y2(float): Coordinate y2 of point B\n",
    "        x3(float): Coordinate x3 of point C\n",
    "        y3(float): Coordinate y3 of point C\n",
    "    \"\"\"\n",
    " \n",
    "    return abs((x1 * (y2 - y3) + x2 * (y3 - y1)\n",
    "                + x3 * (y1 - y2)) / 2.0)\n",
    "\n",
    "\n",
    "def is_inside(x1, y1, x2, y2, x3, y3, x, y) -> bool:\n",
    "    \"\"\"\n",
    "    A function to check whether point P(x, y) lies inside the triangle formed by\n",
    "        A(x1, y1), B(x2, y2) and C(x3, y3)\n",
    "    \n",
    "    Args:\n",
    "        x1(float): Coordinate x1 of point A\n",
    "        y1(float): Coordinate y1 of point A\n",
    "        x2(float): Coordinate x2 of point B\n",
    "        y2(float): Coordinate y2 of point B\n",
    "        x3(float): Coordinate x3 of point C\n",
    "        y3(float): Coordinate y3 of point C\n",
    "        x(float): Coordinate x of point P\n",
    "        y(float): Coordinate y of point P       \n",
    "    \"\"\"\n",
    " \n",
    "    # Calculate area of triangle ABC\n",
    "    a = area (x1, y1, x2, y2, x3, y3)\n",
    " \n",
    "    # Calculate area of triangle PBC\n",
    "    a1 = area (x, y, x2, y2, x3, y3)\n",
    "     \n",
    "    # Calculate area of triangle PAC\n",
    "    a2 = area (x1, y1, x, y, x3, y3)\n",
    "     \n",
    "    # Calculate area of triangle PAB\n",
    "    a3 = area (x1, y1, x2, y2, x, y)\n",
    "     \n",
    "    # Check if sum of A1, A2 and A3\n",
    "    # is same as A\n",
    "    if(a == a1 + a2 + a3):\n",
    "        return True\n",
    "    else:\n",
    "        return False\n"
   ]
  },
  {
   "cell_type": "code",
   "execution_count": 4,
   "id": "be6b0987",
   "metadata": {},
   "outputs": [],
   "source": [
    "def aligned(x_fer, y_fer, x_bet, y_bet, x_vul, y_vul):\n",
    "    \"\"\"\n",
    "    A function to calculate weathers.\n",
    "    \n",
    "    If the three points are aligned, when fixing one point, the line through the other two points should have\n",
    "    the same slope as it would be the same line. There is a special case when the slope is infinite.\n",
    "    \n",
    "    Args:\n",
    "        x_fer(float): Coordinate x of Ferengis\n",
    "        y_fer(float): Coordinate y of Ferengis\n",
    "        x_bet(float): Coordinate x of Betasoides\n",
    "        y_bet(float): Coordinate y of Betasoides\n",
    "        x_vul(float): Coordinate x of Vulcanos\n",
    "        y_vul(float): Coordinate y of Vulcanos\n",
    "    \"\"\"\n",
    "    \n",
    "    if (x_fer == x_bet and x_fer == x_vul) and x_fer == 0: #Infinite slope\n",
    "        b = 0\n",
    "        m1 = 1\n",
    "        m2 = 1\n",
    "    else:\n",
    "        m1 = (y_fer - y_bet) /(x_fer - x_bet)\n",
    "        m1 = round( m1, 3)\n",
    "        m2 = (y_fer - y_vul) /(x_fer - x_vul)\n",
    "        m2 = round( m2, 3)\n",
    "        b = y_fer - m1 * x_fer  #Calculating the intersection\n",
    "    \n",
    "    # Pitagoras formula distance between planets\n",
    "    d_ferbet = math.sqrt((x_fer - x_bet) **2 + (y_fer - y_bet) **2)\n",
    "    d_fervul = math.sqrt((x_fer - x_vul) **2 + (y_fer - y_vul) **2)\n",
    "    d_betvul = math.sqrt((x_bet - x_vul) **2 + (y_bet - y_vul) **2)\n",
    "    longest_side = max(d_ferbet, d_fervul, d_betvul)\n",
    "    sum_sides = d_ferbet + d_fervul + d_betvul  # Perimeter calculation\n",
    "    \n",
    "     # Pitagoras formula distance between sun and planets\n",
    "    d_sunbet = math.sqrt((x_bet) **2 + (y_bet) **2)\n",
    "    d_sunvul = math.sqrt((x_vul) **2 + (y_vul) **2)\n",
    "    d_sunfer = math.sqrt((x_fer) **2 + (y_fer) **2)\n",
    "    farthest_planet = max(d_sunbet, d_sunvul, d_sunfer)\n",
    "    # sum_planets = d_sunbet + d_sunvul + d_sunfer\n",
    "    \n",
    "    \n",
    "    if m1 == m2 and b == 0:  #If intersection is 0 then the line passes through the sun\n",
    "        return 'Sequia', sum_sides\n",
    "    elif m1 == m2 and b != 0:  #Line passes through planets but not trhough sun\n",
    "        return 'Optimo', sum_sides\n",
    "    else:\n",
    "        if is_inside(x_fer, y_fer, x_bet, y_bet, x_vul, y_vul, 0, 0):\n",
    "            return 'Lluvia', sum_sides\n",
    "        else:\n",
    "            return 'Incorrecto', sum_sides"
   ]
  },
  {
   "cell_type": "markdown",
   "id": "8078bb60",
   "metadata": {},
   "source": [
    "# Número de días como parámetro de entrada"
   ]
  },
  {
   "cell_type": "code",
   "execution_count": 5,
   "id": "d90ef74a",
   "metadata": {},
   "outputs": [],
   "source": [
    "# Assuming years of 365 days, and 10 years\n",
    "\n",
    "anhos = 10 * 365 + 1\n",
    "num_days = [x for x in range(0, anhos)]"
   ]
  },
  {
   "cell_type": "markdown",
   "id": "90b6c20b",
   "metadata": {},
   "source": [
    "Se genera una lista vacía que irá agregando los resultados de las funciones como elementos de dicha lista: \n",
    "\n",
    "* El día\n",
    "* Las posiciones en coordenadas\n",
    "* La etiqueta de clima y perímetro"
   ]
  },
  {
   "cell_type": "code",
   "execution_count": 6,
   "id": "0054dcaf",
   "metadata": {},
   "outputs": [],
   "source": [
    "data = []\n",
    "\n",
    "for pos, el in enumerate(num_days):\n",
    "    data.append([pos, planets_positions(el), aligned(*planets_positions(el))])"
   ]
  },
  {
   "cell_type": "markdown",
   "id": "3db37c69",
   "metadata": {},
   "source": [
    "Se crea un dataframe _df_ a partir de la lista, luego un segundo dataframe _df2_ con la etiqueta de clima y el perímetro por separado."
   ]
  },
  {
   "cell_type": "code",
   "execution_count": 7,
   "id": "7a57e0eb",
   "metadata": {},
   "outputs": [],
   "source": [
    "df = pd.DataFrame(data, columns = ['day', 'pos', 'wea'])\n",
    "df2 = df.assign(**pd.DataFrame(df.wea.tolist(), columns = ['weather', 'perimeter'])) #Separating 'wea' field\n",
    "df2 = df2[['day', 'pos', 'weather', 'perimeter']]"
   ]
  },
  {
   "cell_type": "markdown",
   "id": "079febf8",
   "metadata": {},
   "source": [
    "Respondiendo a las preguntas\n",
    "\n",
    "* ¿Cuántos períodos de sequía habrá?\n",
    "* ¿Cuántos períodos de lluvia habrá y qué día será el pico máximo de lluvia?\n",
    "* ¿Cuántos períodos de condiciones óptimas de presión y temperatura habrá?\n",
    "\n",
    "Se agrupa el _df2_ para hacer un conteo de las diferentes etiquetas de clima. El resultado se muestra a continuación:"
   ]
  },
  {
   "cell_type": "code",
   "execution_count": 8,
   "id": "1434fb0c",
   "metadata": {},
   "outputs": [
    {
     "data": {
      "text/html": [
       "<div>\n",
       "<style scoped>\n",
       "    .dataframe tbody tr th:only-of-type {\n",
       "        vertical-align: middle;\n",
       "    }\n",
       "\n",
       "    .dataframe tbody tr th {\n",
       "        vertical-align: top;\n",
       "    }\n",
       "\n",
       "    .dataframe thead th {\n",
       "        text-align: right;\n",
       "    }\n",
       "</style>\n",
       "<table border=\"1\" class=\"dataframe\">\n",
       "  <thead>\n",
       "    <tr style=\"text-align: right;\">\n",
       "      <th></th>\n",
       "      <th>weather</th>\n",
       "      <th>day</th>\n",
       "    </tr>\n",
       "  </thead>\n",
       "  <tbody>\n",
       "    <tr>\n",
       "      <th>0</th>\n",
       "      <td>Incorrecto</td>\n",
       "      <td>2402</td>\n",
       "    </tr>\n",
       "    <tr>\n",
       "      <th>1</th>\n",
       "      <td>Lluvia</td>\n",
       "      <td>1208</td>\n",
       "    </tr>\n",
       "    <tr>\n",
       "      <th>2</th>\n",
       "      <td>Sequia</td>\n",
       "      <td>41</td>\n",
       "    </tr>\n",
       "  </tbody>\n",
       "</table>\n",
       "</div>"
      ],
      "text/plain": [
       "      weather   day\n",
       "0  Incorrecto  2402\n",
       "1      Lluvia  1208\n",
       "2      Sequia    41"
      ]
     },
     "execution_count": 8,
     "metadata": {},
     "output_type": "execute_result"
    }
   ],
   "source": [
    "df2.groupby(['weather']).count()['day'].to_frame().reset_index()"
   ]
  },
  {
   "cell_type": "markdown",
   "id": "a794241a",
   "metadata": {},
   "source": [
    "**2.402** días con climas incorrectos\n",
    "\n",
    "**1.208** días con lluvias\n",
    "\n",
    "**41** días de sequía\n",
    "\n",
    "No se encuentran días óptimos, sin embargo, en el anexo se encuentra una prueba de que con las posiciones indicadas, el código sí entra a esta condición."
   ]
  },
  {
   "cell_type": "markdown",
   "id": "f479abfd",
   "metadata": {},
   "source": [
    "# Calculando los días con picos de lluvia..."
   ]
  },
  {
   "cell_type": "code",
   "execution_count": 9,
   "id": "682c8b64",
   "metadata": {},
   "outputs": [
    {
     "data": {
      "text/plain": [
       "[72,\n",
       " 108,\n",
       " 252,\n",
       " 288,\n",
       " 432,\n",
       " 468,\n",
       " 612,\n",
       " 648,\n",
       " 792,\n",
       " 828,\n",
       " 972,\n",
       " 1008,\n",
       " 1152,\n",
       " 1188,\n",
       " 1332,\n",
       " 1368,\n",
       " 1512,\n",
       " 1548,\n",
       " 1692,\n",
       " 1728,\n",
       " 1872,\n",
       " 1908,\n",
       " 2052,\n",
       " 2088,\n",
       " 2232,\n",
       " 2268,\n",
       " 2412,\n",
       " 2448,\n",
       " 2592,\n",
       " 2628,\n",
       " 2772,\n",
       " 2808,\n",
       " 2952,\n",
       " 2988,\n",
       " 3132,\n",
       " 3168,\n",
       " 3312,\n",
       " 3348,\n",
       " 3492,\n",
       " 3528]"
      ]
     },
     "execution_count": 9,
     "metadata": {},
     "output_type": "execute_result"
    }
   ],
   "source": [
    "peak = df2[df2['weather'] == 'Lluvia']['perimeter'].max()   #Maximum perimeter\n",
    "df2[df2['perimeter'] == peak]  # Filtering rows\n",
    "peak_rain_days = [x for x in df2[df2['perimeter'] == peak]['day']]\n",
    "peak_rain_days"
   ]
  },
  {
   "cell_type": "code",
   "execution_count": 10,
   "id": "16d3e093",
   "metadata": {},
   "outputs": [
    {
     "data": {
      "text/plain": [
       "40"
      ]
     },
     "execution_count": 10,
     "metadata": {},
     "output_type": "execute_result"
    }
   ],
   "source": [
    "len(peak_rain_days)"
   ]
  },
  {
   "cell_type": "markdown",
   "id": "992e4e42",
   "metadata": {},
   "source": [
    "Son **40** días con picos de lluvia."
   ]
  },
  {
   "cell_type": "markdown",
   "id": "a56017c3",
   "metadata": {},
   "source": [
    "# Anexos"
   ]
  },
  {
   "cell_type": "markdown",
   "id": "733d32a9",
   "metadata": {},
   "source": [
    "Probando al sol como punto interior del triángulo formado por los planetas."
   ]
  },
  {
   "cell_type": "code",
   "execution_count": 11,
   "id": "4d67a77b",
   "metadata": {},
   "outputs": [
    {
     "data": {
      "image/png": "[encoded data removed]",
      "text/plain": [
       "<Figure size 432x288 with 1 Axes>"
      ]
     },
     "metadata": {
      "needs_background": "light"
     },
     "output_type": "display_data"
    }
   ],
   "source": [
    "#Test\n",
    "\n",
    "#Day 22\n",
    "X = [187, 1827, -940, 187]\n",
    "Y = [464, 813, -342, 464]\n",
    "\n",
    "\n",
    "#Day 3528, peak of rain\n",
    "a = [-476, 1176, 0, -476]\n",
    "b = [155, -1618, 1000, 155]\n",
    "\n",
    "plt.title('Test')\n",
    "plt.plot(X,Y, 'blue', label = 'Incorrecto')\n",
    "plt.plot(a, b, 'red', label = 'Lluvia')\n",
    "plt.scatter(X, Y)\n",
    "plt.scatter(a, b)\n",
    "x1, y1 = 0, 0\n",
    "plt.scatter(x1, y1, c = 'green')\n",
    "plt.legend(loc=\"upper left\")\n",
    "plt.grid()\n",
    "plt.show()"
   ]
  },
  {
   "cell_type": "markdown",
   "id": "fe188eca",
   "metadata": {},
   "source": [
    "# Prueba para un día óptimo"
   ]
  },
  {
   "cell_type": "code",
   "execution_count": 12,
   "id": "31a90a41",
   "metadata": {},
   "outputs": [
    {
     "data": {
      "text/plain": [
       "('Optimo', 4308.131845707603)"
      ]
     },
     "execution_count": 12,
     "metadata": {},
     "output_type": "execute_result"
    }
   ],
   "source": [
    "aligned(-400, -500, -200, 0, 400, 1500)"
   ]
  }
 ],
 "metadata": {
  "kernelspec": {
   "display_name": "Python 3",
   "language": "python",
   "name": "python3"
  },
  "language_info": {
   "codemirror_mode": {
    "name": "ipython",
    "version": 3
   },
   "file_extension": ".py",
   "mimetype": "text/x-python",
   "name": "python",
   "nbconvert_exporter": "python",
   "pygments_lexer": "ipython3",
   "version": "3.8.8"
  }
 },
 "nbformat": 4,
 "nbformat_minor": 5
}
